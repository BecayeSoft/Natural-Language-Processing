{
 "cells": [
  {
   "cell_type": "markdown",
   "source": [
    "# Stopwords"
   ],
   "metadata": {
    "collapsed": false
   }
  },
  {
   "cell_type": "code",
   "execution_count": 1,
   "outputs": [],
   "source": [
    "import spacy\n",
    "nlp = spacy.load('en_core_web_sm')"
   ],
   "metadata": {
    "collapsed": false
   }
  },
  {
   "cell_type": "code",
   "execution_count": 2,
   "outputs": [
    {
     "name": "stdout",
     "output_type": "stream",
     "text": [
      "{'itself', 'say', 'of', 'more', '‘ll', 'thus', '’ll', 'hereby', 'sometimes', 'yours', \"n't\", 'whom', 'everything', 'whenever', 'namely', 'anyone', 'three', 'third', '’re', 'something', 'through', 'thru', 'part', 'nor', 'would', 'up', 'hundred', 'any', 'even', 'by', 'twenty', 'until', 'his', 'can', 'keep', '‘m', 'on', 'doing', 'and', 'moreover', 'whose', 'empty', 're', 'eleven', 'nowhere', '‘ve', 'our', 'if', 'am', 'above', 'thereby', 'these', 'never', 'using', 'thence', 'beforehand', 'do', 'latterly', \"'d\", 'had', 'himself', 'without', 'then', 'towards', 'each', 'with', 'yourself', 'latter', \"'s\", 'call', 'between', 'except', 'move', 'someone', 'which', 'few', 'whether', 'whence', \"'re\", 'via', 'top', 'such', 'seem', 'down', 'as', 'or', 'every', 'other', 'mostly', 'whole', 'neither', 'here', 'yourselves', 'upon', 'anyway', 'former', 'were', 'herein', 'per', 'there', 'for', 'off', 'n’t', 'enough', 'eight', 'he', \"'m\", 'an', 'too', 'us', 'own', 'she', 'has', 'becomes', 'amongst', 'toward', 'become', 'still', 'make', 'meanwhile', 'became', 'under', 'show', 'serious', '’d', 'around', 'ourselves', \"'ll\", 'used', 'within', 'him', 'once', 'cannot', 'myself', 'whereafter', 'most', 'we', 'almost', 'less', 'take', 'put', 'who', 'this', 'beyond', 'whither', 'quite', 'whereby', 'should', 'though', 'again', 'rather', 'perhaps', 'always', 'could', 'what', 'how', 'n‘t', 'six', 'beside', 'that', 'out', 'fifteen', 'side', 'but', 'everyone', '’s', 'might', 'seems', 'into', 'next', 'ca', 'indeed', 'about', 'nevertheless', 'you', 'nothing', 'due', 'otherwise', 'hereafter', 'been', 'much', 'to', 'please', 'same', 'hereupon', 'not', 'where', 'name', 'others', 'seemed', '‘d', 'several', 'alone', 'becoming', 'after', 'only', 'somewhere', 'anything', 'anyhow', 'together', 'done', 'them', 'fifty', 'well', 'so', 'being', 'at', 'both', 'often', 'very', 'twelve', 'forty', 'get', 'nine', 'all', 'her', 'various', '’m', 'throughout', 'formerly', 'whereupon', 'herself', 'back', 'be', '‘re', 'ours', 'nobody', 'unless', 'somehow', 'elsewhere', 'when', 'first', 'last', 'wherever', 'why', 'one', 'those', 'does', 'themselves', 'ten', 'least', 'seeming', 'must', 'else', 'your', 'anywhere', 'many', 'over', 'none', 'some', 'therefore', 'below', 'wherein', 'hers', 'me', 'go', 'four', 'bottom', 'everywhere', 'just', 'already', 'against', \"'ve\", 'front', 'whatever', 'along', 'no', 'thereupon', 'five', 'whoever', 'onto', 'sixty', 'because', 'although', 'really', 'afterwards', 'in', 'made', 'ever', 'two', 'behind', 'see', 'from', 'than', 'across', '‘s', 'now', 'further', 'i', 'yet', 'the', 'therein', 'they', 'thereafter', 'amount', 'while', 'sometime', 'a', 'however', 'regarding', 'my', 'either', 'are', 'may', 'its', 'mine', 'also', 'besides', 'have', 'full', 'hence', 'during', 'it', 'noone', 'will', 'was', '’ve', 'did', 'whereas', 'among', 'another', 'before', 'is', 'since', 'their', 'give'}\n"
     ]
    }
   ],
   "source": [
    "print(nlp.Defaults.stop_words)"
   ],
   "metadata": {
    "collapsed": false
   }
  },
  {
   "cell_type": "code",
   "execution_count": 3,
   "outputs": [
    {
     "data": {
      "text/plain": "326"
     },
     "execution_count": 3,
     "metadata": {},
     "output_type": "execute_result"
    }
   ],
   "source": [
    "len(nlp.Defaults.stop_words)"
   ],
   "metadata": {
    "collapsed": false
   }
  },
  {
   "cell_type": "markdown",
   "source": [
    "## Check if a word is a stop word"
   ],
   "metadata": {
    "collapsed": false
   }
  },
  {
   "cell_type": "code",
   "execution_count": 4,
   "outputs": [
    {
     "data": {
      "text/plain": "True"
     },
     "execution_count": 4,
     "metadata": {},
     "output_type": "execute_result"
    }
   ],
   "source": [
    "nlp.vocab['myself'].is_stop"
   ],
   "metadata": {
    "collapsed": false
   }
  },
  {
   "cell_type": "code",
   "execution_count": 5,
   "outputs": [
    {
     "data": {
      "text/plain": "False"
     },
     "execution_count": 5,
     "metadata": {},
     "output_type": "execute_result"
    }
   ],
   "source": [
    "nlp.vocab['mystery'].is_stop"
   ],
   "metadata": {
    "collapsed": false
   }
  },
  {
   "cell_type": "markdown",
   "source": [
    "## Add a stop word\n",
    "There may be times when you wish to add a stop word to the default set. Perhaps you decide that `'btw'` (common shorthand for \"by the way\") should be considered a stop word."
   ],
   "metadata": {
    "collapsed": false
   }
  },
  {
   "cell_type": "code",
   "execution_count": 6,
   "outputs": [],
   "source": [
    "# Add the word to the set of stop words. Use lowercase!\n",
    "nlp.Defaults.stop_words.add('btw')\n",
    "\n",
    "# Set the stop_word tag on the lexeme\n",
    "nlp.vocab['btw'].is_stop = True"
   ],
   "metadata": {
    "collapsed": false
   }
  },
  {
   "cell_type": "code",
   "execution_count": 7,
   "outputs": [
    {
     "data": {
      "text/plain": "327"
     },
     "execution_count": 7,
     "metadata": {},
     "output_type": "execute_result"
    }
   ],
   "source": [
    "len(nlp.Defaults.stop_words)"
   ],
   "metadata": {
    "collapsed": false
   }
  },
  {
   "cell_type": "code",
   "execution_count": 8,
   "outputs": [
    {
     "data": {
      "text/plain": "True"
     },
     "execution_count": 8,
     "metadata": {},
     "output_type": "execute_result"
    }
   ],
   "source": [
    "nlp.vocab['btw'].is_stop"
   ],
   "metadata": {
    "collapsed": false
   }
  },
  {
   "cell_type": "markdown",
   "source": [
    "<font color=green>When adding stop words, always use lowercase. Lexemes are converted to lowercase before being added to **vocab**.</font>"
   ],
   "metadata": {
    "collapsed": false
   }
  },
  {
   "cell_type": "markdown",
   "source": [
    "## Remove a stop word\n",
    "Alternatively, you may decide that `'beyond'` should not be considered a stop word."
   ],
   "metadata": {
    "collapsed": false
   }
  },
  {
   "cell_type": "code",
   "execution_count": 9,
   "outputs": [],
   "source": [
    "# Remove the word from the set of stop words\n",
    "nlp.Defaults.stop_words.remove('beyond')\n",
    "\n",
    "# Remove the stop_word tag from the lexeme\n",
    "nlp.vocab['beyond'].is_stop = False"
   ],
   "metadata": {
    "collapsed": false
   }
  },
  {
   "cell_type": "code",
   "execution_count": 10,
   "outputs": [
    {
     "data": {
      "text/plain": "326"
     },
     "execution_count": 10,
     "metadata": {},
     "output_type": "execute_result"
    }
   ],
   "source": [
    "len(nlp.Defaults.stop_words)"
   ],
   "metadata": {
    "collapsed": false
   }
  },
  {
   "cell_type": "code",
   "execution_count": 11,
   "outputs": [
    {
     "data": {
      "text/plain": "False"
     },
     "execution_count": 11,
     "metadata": {},
     "output_type": "execute_result"
    }
   ],
   "source": [
    "nlp.vocab['beyond'].is_stop"
   ],
   "metadata": {
    "collapsed": false
   }
  }
 ],
 "metadata": {
  "kernelspec": {
   "display_name": "Python 3",
   "language": "python",
   "name": "python3"
  },
  "language_info": {
   "codemirror_mode": {
    "name": "ipython",
    "version": 2
   },
   "file_extension": ".py",
   "mimetype": "text/x-python",
   "name": "python",
   "nbconvert_exporter": "python",
   "pygments_lexer": "ipython2",
   "version": "2.7.6"
  }
 },
 "nbformat": 4,
 "nbformat_minor": 0
}
