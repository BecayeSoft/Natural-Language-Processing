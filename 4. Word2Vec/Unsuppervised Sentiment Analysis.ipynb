{
 "cells": [
  {
   "cell_type": "markdown",
   "source": [
    "# Sentiment Analysis using VADER\n",
    "\n",
    "VADER (Valence Aware Dictionary and sEntiment Reasoner) is a lexicon and rule-based sentiment analysis tool used in NLP. It is specifically designed to analyze and determine the sentiment (positive, negative, or neutral) expressed in textual data, such as social media posts, customer reviews, and online comments.\n",
    "\n",
    " VALDER also considers how strong or intense the sentiment is.\n",
    "\n",
    "It's a helpful tool for quickly figuring out how people feel about something based on what they write."
   ],
   "metadata": {
    "collapsed": false
   }
  },
  {
   "cell_type": "markdown",
   "source": [
    "## Get the Data\n",
    "We will use the [amazon-reviews](https://www.kaggle.com/datasets/kritanjalijain/[amazon-reviews) dataset on Kaggle.\n",
    "\n",
    "To download a dataset with kaggle:\n",
    "1. `pip install kaggle`\n",
    "2. Download the kaggle.json file by clicking on \"Create new token\" in the API section of [your profile settings\n",
    "\n",
    "3. Place the kaggle.json file in: `Users/username/.kaggle/kaggle.json`"
   ],
   "metadata": {
    "collapsed": false
   }
  },
  {
   "cell_type": "code",
   "execution_count": null,
   "outputs": [],
   "source": [
    "import zipfile\n",
    "from kaggle.api.kaggle_api_extended import KaggleApi\n",
    "\n",
    "import pandas as pd\n",
    "\n",
    "# Authenticate and download the dataset using the Kaggle API\n",
    "api = KaggleApi()\n",
    "api.authenticate()\n",
    "api.dataset_download_files('kritanjalijain/amazon-reviews')\n",
    "\n",
    "# Extract the dataset file\n",
    "\n",
    "with zipfile.ZipFile('amazon-reviews.zip', 'r') as zip_ref:\n",
    "    zip_ref.extractall('dataset')"
   ],
   "metadata": {
    "collapsed": false,
    "pycharm": {
     "is_executing": true
    }
   }
  },
  {
   "cell_type": "code",
   "execution_count": 22,
   "outputs": [
    {
     "data": {
      "text/plain": "   sentiment                                             review  \\\n0          2                     Stuning even for the non-gamer   \n1          2              The best soundtrack ever to anything.   \n2          2                                           Amazing!   \n3          2                               Excellent Soundtrack   \n4          2  Remember, Pull Your Jaw Off The Floor After He...   \n\n                                          reviewText  \n0  This sound track was beautiful! It paints the ...  \n1  I'm reading a lot of reviews saying that this ...  \n2  This soundtrack is my favorite music of all ti...  \n3  I truly like this soundtrack and I enjoy video...  \n4  If you've played the game, you know how divine...  ",
      "text/html": "<div>\n<style scoped>\n    .dataframe tbody tr th:only-of-type {\n        vertical-align: middle;\n    }\n\n    .dataframe tbody tr th {\n        vertical-align: top;\n    }\n\n    .dataframe thead th {\n        text-align: right;\n    }\n</style>\n<table border=\"1\" class=\"dataframe\">\n  <thead>\n    <tr style=\"text-align: right;\">\n      <th></th>\n      <th>sentiment</th>\n      <th>review</th>\n      <th>reviewText</th>\n    </tr>\n  </thead>\n  <tbody>\n    <tr>\n      <th>0</th>\n      <td>2</td>\n      <td>Stuning even for the non-gamer</td>\n      <td>This sound track was beautiful! It paints the ...</td>\n    </tr>\n    <tr>\n      <th>1</th>\n      <td>2</td>\n      <td>The best soundtrack ever to anything.</td>\n      <td>I'm reading a lot of reviews saying that this ...</td>\n    </tr>\n    <tr>\n      <th>2</th>\n      <td>2</td>\n      <td>Amazing!</td>\n      <td>This soundtrack is my favorite music of all ti...</td>\n    </tr>\n    <tr>\n      <th>3</th>\n      <td>2</td>\n      <td>Excellent Soundtrack</td>\n      <td>I truly like this soundtrack and I enjoy video...</td>\n    </tr>\n    <tr>\n      <th>4</th>\n      <td>2</td>\n      <td>Remember, Pull Your Jaw Off The Floor After He...</td>\n      <td>If you've played the game, you know how divine...</td>\n    </tr>\n  </tbody>\n</table>\n</div>"
     },
     "execution_count": 22,
     "metadata": {},
     "output_type": "execute_result"
    }
   ],
   "source": [
    "df = pd.read_csv('dataset/train.csv', header=None, names=['sentiment', 'review', 'reviewText'])\n",
    "# Keep only 10,000 rows as the dataset is too large\n",
    "df = df[0:10000, :]\n",
    "df.head()"
   ],
   "metadata": {
    "collapsed": false
   }
  },
  {
   "cell_type": "code",
   "execution_count": null,
   "outputs": [],
   "source": [
    "df.shape"
   ],
   "metadata": {
    "collapsed": false
   }
  },
  {
   "cell_type": "markdown",
   "source": [
    "## Clean the Data\n",
    "We iterate over the dataframe and check if a review is empty or contains only whitespace characters. If so, we drop the row."
   ],
   "metadata": {
    "collapsed": false
   }
  },
  {
   "cell_type": "code",
   "execution_count": null,
   "outputs": [
    {
     "ename": "NameError",
     "evalue": "name 'df' is not defined",
     "output_type": "error",
     "traceback": [
      "\u001B[1;31m---------------------------------------------------------------------------\u001B[0m",
      "\u001B[1;31mNameError\u001B[0m                                 Traceback (most recent call last)",
      "Cell \u001B[1;32mIn[1], line 2\u001B[0m\n\u001B[0;32m      1\u001B[0m \u001B[38;5;66;03m# Remove NaN values and empty strings\u001B[39;00m\n\u001B[1;32m----> 2\u001B[0m \u001B[43mdf\u001B[49m\u001B[38;5;241m.\u001B[39mdropna(inplace\u001B[38;5;241m=\u001B[39m\u001B[38;5;28;01mTrue\u001B[39;00m)\n\u001B[0;32m      4\u001B[0m blanks \u001B[38;5;241m=\u001B[39m []\n\u001B[0;32m      6\u001B[0m \u001B[38;5;28;01mfor\u001B[39;00m i, label, review \u001B[38;5;129;01min\u001B[39;00m df\u001B[38;5;241m.\u001B[39mitertuples():\n",
      "\u001B[1;31mNameError\u001B[0m: name 'df' is not defined"
     ]
    }
   ],
   "source": [
    "\"\"\"\n",
    "# Remove NaN values and empty strings\n",
    "df.dropna(inplace=True)\n",
    "\n",
    "blanks = []\n",
    "\n",
    "for i, label, review in df.itertuples():\n",
    "    if type(review)==str:\n",
    "        if review.isspace():\n",
    "            blanks.append(i)\n",
    "\n",
    "df.drop(blanks, inplace=True)\n",
    "\"\"\""
   ],
   "metadata": {
    "collapsed": false
   }
  },
  {
   "cell_type": "markdown",
   "source": [
    "## Import VADER"
   ],
   "metadata": {
    "collapsed": false
   }
  },
  {
   "cell_type": "code",
   "execution_count": 13,
   "outputs": [
    {
     "name": "stderr",
     "output_type": "stream",
     "text": [
      "[nltk_data] Downloading package vader_lexicon to\n",
      "[nltk_data]     C:\\Users\\balde\\AppData\\Roaming\\nltk_data...\n"
     ]
    },
    {
     "data": {
      "text/plain": "True"
     },
     "execution_count": 13,
     "metadata": {},
     "output_type": "execute_result"
    }
   ],
   "source": [
    "import nltk\n",
    "nltk.download('vader_lexicon')"
   ],
   "metadata": {
    "collapsed": false
   }
  },
  {
   "cell_type": "markdown",
   "source": [],
   "metadata": {
    "collapsed": false
   }
  },
  {
   "cell_type": "code",
   "execution_count": 14,
   "outputs": [],
   "source": [
    "from nltk.sentiment.vader import SentimentIntensityAnalyzer\n",
    "sid = SentimentIntensityAnalyzer()"
   ],
   "metadata": {
    "collapsed": false
   }
  },
  {
   "cell_type": "markdown",
   "source": [
    "## Apply VADER to the dataset\n",
    "The polarity_score method returns a dictionary of scores for the input string. The compound score is a metric that calculates the sum of all the lexicon ratings which have been normalized between -1 (most extreme negative) and +1 (most extreme positive)."
   ],
   "metadata": {
    "collapsed": false
   }
  },
  {
   "cell_type": "code",
   "execution_count": 15,
   "outputs": [
    {
     "data": {
      "text/plain": "{'neg': 0.0, 'neu': 0.631, 'pos': 0.369, 'compound': 0.6249}"
     },
     "execution_count": 15,
     "metadata": {},
     "output_type": "execute_result"
    }
   ],
   "source": [
    "sid.polarity_scores('Spring is such a great time of the year')"
   ],
   "metadata": {
    "collapsed": false
   }
  },
  {
   "cell_type": "markdown",
   "source": [
    "Now, let's apply VADER to the reviewText column of the dataset. We will create a new column called scores that contains the polarity scores for each review."
   ],
   "metadata": {
    "collapsed": false
   }
  },
  {
   "cell_type": "code",
   "execution_count": 23,
   "outputs": [
    {
     "data": {
      "text/plain": "   sentiment                                             review  \\\n0          2                     Stuning even for the non-gamer   \n1          2              The best soundtrack ever to anything.   \n2          2                                           Amazing!   \n3          2                               Excellent Soundtrack   \n4          2  Remember, Pull Your Jaw Off The Floor After He...   \n\n                                          reviewText  \\\n0  This sound track was beautiful! It paints the ...   \n1  I'm reading a lot of reviews saying that this ...   \n2  This soundtrack is my favorite music of all ti...   \n3  I truly like this soundtrack and I enjoy video...   \n4  If you've played the game, you know how divine...   \n\n                                              scores  \n0  {'neg': 0.093, 'neu': 0.651, 'pos': 0.256, 'co...  \n1  {'neg': 0.019, 'neu': 0.851, 'pos': 0.129, 'co...  \n2  {'neg': 0.04, 'neu': 0.691, 'pos': 0.269, 'com...  \n3  {'neg': 0.092, 'neu': 0.628, 'pos': 0.28, 'com...  \n4  {'neg': 0.0, 'neu': 0.719, 'pos': 0.281, 'comp...  ",
      "text/html": "<div>\n<style scoped>\n    .dataframe tbody tr th:only-of-type {\n        vertical-align: middle;\n    }\n\n    .dataframe tbody tr th {\n        vertical-align: top;\n    }\n\n    .dataframe thead th {\n        text-align: right;\n    }\n</style>\n<table border=\"1\" class=\"dataframe\">\n  <thead>\n    <tr style=\"text-align: right;\">\n      <th></th>\n      <th>sentiment</th>\n      <th>review</th>\n      <th>reviewText</th>\n      <th>scores</th>\n    </tr>\n  </thead>\n  <tbody>\n    <tr>\n      <th>0</th>\n      <td>2</td>\n      <td>Stuning even for the non-gamer</td>\n      <td>This sound track was beautiful! It paints the ...</td>\n      <td>{'neg': 0.093, 'neu': 0.651, 'pos': 0.256, 'co...</td>\n    </tr>\n    <tr>\n      <th>1</th>\n      <td>2</td>\n      <td>The best soundtrack ever to anything.</td>\n      <td>I'm reading a lot of reviews saying that this ...</td>\n      <td>{'neg': 0.019, 'neu': 0.851, 'pos': 0.129, 'co...</td>\n    </tr>\n    <tr>\n      <th>2</th>\n      <td>2</td>\n      <td>Amazing!</td>\n      <td>This soundtrack is my favorite music of all ti...</td>\n      <td>{'neg': 0.04, 'neu': 0.691, 'pos': 0.269, 'com...</td>\n    </tr>\n    <tr>\n      <th>3</th>\n      <td>2</td>\n      <td>Excellent Soundtrack</td>\n      <td>I truly like this soundtrack and I enjoy video...</td>\n      <td>{'neg': 0.092, 'neu': 0.628, 'pos': 0.28, 'com...</td>\n    </tr>\n    <tr>\n      <th>4</th>\n      <td>2</td>\n      <td>Remember, Pull Your Jaw Off The Floor After He...</td>\n      <td>If you've played the game, you know how divine...</td>\n      <td>{'neg': 0.0, 'neu': 0.719, 'pos': 0.281, 'comp...</td>\n    </tr>\n  </tbody>\n</table>\n</div>"
     },
     "execution_count": 23,
     "metadata": {},
     "output_type": "execute_result"
    }
   ],
   "source": [
    "df['scores'] = df['reviewText'].apply(lambda review: sid.polarity_scores(review))"
   ],
   "metadata": {
    "collapsed": false
   }
  },
  {
   "cell_type": "code",
   "execution_count": 33,
   "outputs": [],
   "source": [
    "df['compound']  = df['scores'].apply(lambda score_dict: score_dict['compound'])\n",
    "df['comp_score'] = df['compound'].apply(lambda c: 2 if c >=0 else 1)   # 2 for positive, 1 for negative"
   ],
   "metadata": {
    "collapsed": false
   }
  },
  {
   "cell_type": "code",
   "execution_count": 30,
   "outputs": [
    {
     "data": {
      "text/plain": "   sentiment                                             review  \\\n0          2                     Stuning even for the non-gamer   \n1          2              The best soundtrack ever to anything.   \n2          2                                           Amazing!   \n3          2                               Excellent Soundtrack   \n4          2  Remember, Pull Your Jaw Off The Floor After He...   \n\n                                          reviewText  \\\n0  This sound track was beautiful! It paints the ...   \n1  I'm reading a lot of reviews saying that this ...   \n2  This soundtrack is my favorite music of all ti...   \n3  I truly like this soundtrack and I enjoy video...   \n4  If you've played the game, you know how divine...   \n\n                                              scores  compound comp_score  \n0  {'neg': 0.093, 'neu': 0.651, 'pos': 0.256, 'co...    0.9454        pos  \n1  {'neg': 0.019, 'neu': 0.851, 'pos': 0.129, 'co...    0.8481        pos  \n2  {'neg': 0.04, 'neu': 0.691, 'pos': 0.269, 'com...    0.9854        pos  \n3  {'neg': 0.092, 'neu': 0.628, 'pos': 0.28, 'com...    0.9753        pos  \n4  {'neg': 0.0, 'neu': 0.719, 'pos': 0.281, 'comp...    0.9781        pos  ",
      "text/html": "<div>\n<style scoped>\n    .dataframe tbody tr th:only-of-type {\n        vertical-align: middle;\n    }\n\n    .dataframe tbody tr th {\n        vertical-align: top;\n    }\n\n    .dataframe thead th {\n        text-align: right;\n    }\n</style>\n<table border=\"1\" class=\"dataframe\">\n  <thead>\n    <tr style=\"text-align: right;\">\n      <th></th>\n      <th>sentiment</th>\n      <th>review</th>\n      <th>reviewText</th>\n      <th>scores</th>\n      <th>compound</th>\n      <th>comp_score</th>\n    </tr>\n  </thead>\n  <tbody>\n    <tr>\n      <th>0</th>\n      <td>2</td>\n      <td>Stuning even for the non-gamer</td>\n      <td>This sound track was beautiful! It paints the ...</td>\n      <td>{'neg': 0.093, 'neu': 0.651, 'pos': 0.256, 'co...</td>\n      <td>0.9454</td>\n      <td>pos</td>\n    </tr>\n    <tr>\n      <th>1</th>\n      <td>2</td>\n      <td>The best soundtrack ever to anything.</td>\n      <td>I'm reading a lot of reviews saying that this ...</td>\n      <td>{'neg': 0.019, 'neu': 0.851, 'pos': 0.129, 'co...</td>\n      <td>0.8481</td>\n      <td>pos</td>\n    </tr>\n    <tr>\n      <th>2</th>\n      <td>2</td>\n      <td>Amazing!</td>\n      <td>This soundtrack is my favorite music of all ti...</td>\n      <td>{'neg': 0.04, 'neu': 0.691, 'pos': 0.269, 'com...</td>\n      <td>0.9854</td>\n      <td>pos</td>\n    </tr>\n    <tr>\n      <th>3</th>\n      <td>2</td>\n      <td>Excellent Soundtrack</td>\n      <td>I truly like this soundtrack and I enjoy video...</td>\n      <td>{'neg': 0.092, 'neu': 0.628, 'pos': 0.28, 'com...</td>\n      <td>0.9753</td>\n      <td>pos</td>\n    </tr>\n    <tr>\n      <th>4</th>\n      <td>2</td>\n      <td>Remember, Pull Your Jaw Off The Floor After He...</td>\n      <td>If you've played the game, you know how divine...</td>\n      <td>{'neg': 0.0, 'neu': 0.719, 'pos': 0.281, 'comp...</td>\n      <td>0.9781</td>\n      <td>pos</td>\n    </tr>\n  </tbody>\n</table>\n</div>"
     },
     "execution_count": 30,
     "metadata": {},
     "output_type": "execute_result"
    }
   ],
   "source": [
    "df.head()"
   ],
   "metadata": {
    "collapsed": false
   }
  },
  {
   "cell_type": "markdown",
   "source": [
    "## Evaluate the Model"
   ],
   "metadata": {
    "collapsed": false
   }
  },
  {
   "cell_type": "code",
   "execution_count": 34,
   "outputs": [
    {
     "name": "stdout",
     "output_type": "stream",
     "text": [
      "0.6877631574926669\n",
      "              precision    recall  f1-score   support\n",
      "\n",
      "           1       0.85      0.46      0.59   1799880\n",
      "           2       0.63      0.92      0.75   1799913\n",
      "\n",
      "    accuracy                           0.69   3599793\n",
      "   macro avg       0.74      0.69      0.67   3599793\n",
      "weighted avg       0.74      0.69      0.67   3599793\n",
      "\n",
      "[[ 824331  975549]\n",
      " [ 148439 1651474]]\n"
     ]
    }
   ],
   "source": [
    "from sklearn.metrics import accuracy_score, classification_report, confusion_matrix\n",
    "\n",
    "print(accuracy_score(df['sentiment'], df['comp_score']))\n",
    "print(classification_report(df['sentiment'], df['comp_score']))\n",
    "print(confusion_matrix(df['sentiment'], df['comp_score']))"
   ],
   "metadata": {
    "collapsed": false
   }
  }
 ],
 "metadata": {
  "kernelspec": {
   "display_name": "Python 3",
   "language": "python",
   "name": "python3"
  },
  "language_info": {
   "codemirror_mode": {
    "name": "ipython",
    "version": 2
   },
   "file_extension": ".py",
   "mimetype": "text/x-python",
   "name": "python",
   "nbconvert_exporter": "python",
   "pygments_lexer": "ipython2",
   "version": "2.7.6"
  }
 },
 "nbformat": 4,
 "nbformat_minor": 0
}
